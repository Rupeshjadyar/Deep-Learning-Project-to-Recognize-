{
  "cells": [
    {
      "cell_type": "markdown",
      "source": [
        "import library"
      ],
      "metadata": {
        "id": "tavN_GJZ5xLx"
      }
    },
    {
      "cell_type": "code",
      "execution_count": 44,
      "metadata": {
        "id": "UB5iznSso1fl"
      },
      "outputs": [],
      "source": [
        "#Digit Recognition Deep Learning Project \n",
        "import pandas as pd\n",
        "import numpy as np\n",
        "import matplotlib.pyplot as plt\n",
        "import tensorflow\n",
        "from tensorflow import keras\n",
        "from tensorflow.keras import Sequential\n",
        "from tensorflow.keras.layers import Dense,Flatten"
      ]
    },
    {
      "cell_type": "code",
      "source": [],
      "metadata": {
        "id": "yfIw1McFLXvW"
      },
      "execution_count": null,
      "outputs": []
    },
    {
      "cell_type": "markdown",
      "source": [
        "**Load Data**"
      ],
      "metadata": {
        "id": "zP2YwSzut92l"
      }
    },
    {
      "cell_type": "code",
      "execution_count": 45,
      "metadata": {
        "id": "OlYxQ1oSo9mW"
      },
      "outputs": [],
      "source": [
        "(xtrain,ytrain ),(xtest,ytest)=keras.datasets.mnist.load_data()\n"
      ]
    },
    {
      "cell_type": "code",
      "execution_count": 46,
      "metadata": {
        "id": "ylBn8Sb4qYPE",
        "colab": {
          "base_uri": "https://localhost:8080/",
          "height": 0
        },
        "outputId": "31081cc2-37e7-4b02-f603-1f4f109c1531"
      },
      "outputs": [
        {
          "output_type": "execute_result",
          "data": {
            "text/plain": [
              "3"
            ]
          },
          "metadata": {},
          "execution_count": 46
        }
      ],
      "source": [
        "#check the dimention xtrain\n",
        "xtrain.ndim"
      ]
    },
    {
      "cell_type": "code",
      "source": [
        "xtest.ndim"
      ],
      "metadata": {
        "colab": {
          "base_uri": "https://localhost:8080/",
          "height": 0
        },
        "id": "ven78x_LwBdt",
        "outputId": "59e72da4-8cda-4b28-faea-f07c27fb8334"
      },
      "execution_count": 47,
      "outputs": [
        {
          "output_type": "execute_result",
          "data": {
            "text/plain": [
              "3"
            ]
          },
          "metadata": {},
          "execution_count": 47
        }
      ]
    },
    {
      "cell_type": "code",
      "execution_count": 48,
      "metadata": {
        "id": "aYoQ73F-e2bf",
        "colab": {
          "base_uri": "https://localhost:8080/",
          "height": 0
        },
        "outputId": "871a4f16-eee2-496f-a0b5-8aa1a5ab9ff1"
      },
      "outputs": [
        {
          "output_type": "execute_result",
          "data": {
            "text/plain": [
              "array([[[0, 0, 0, ..., 0, 0, 0],\n",
              "        [0, 0, 0, ..., 0, 0, 0],\n",
              "        [0, 0, 0, ..., 0, 0, 0],\n",
              "        ...,\n",
              "        [0, 0, 0, ..., 0, 0, 0],\n",
              "        [0, 0, 0, ..., 0, 0, 0],\n",
              "        [0, 0, 0, ..., 0, 0, 0]],\n",
              "\n",
              "       [[0, 0, 0, ..., 0, 0, 0],\n",
              "        [0, 0, 0, ..., 0, 0, 0],\n",
              "        [0, 0, 0, ..., 0, 0, 0],\n",
              "        ...,\n",
              "        [0, 0, 0, ..., 0, 0, 0],\n",
              "        [0, 0, 0, ..., 0, 0, 0],\n",
              "        [0, 0, 0, ..., 0, 0, 0]],\n",
              "\n",
              "       [[0, 0, 0, ..., 0, 0, 0],\n",
              "        [0, 0, 0, ..., 0, 0, 0],\n",
              "        [0, 0, 0, ..., 0, 0, 0],\n",
              "        ...,\n",
              "        [0, 0, 0, ..., 0, 0, 0],\n",
              "        [0, 0, 0, ..., 0, 0, 0],\n",
              "        [0, 0, 0, ..., 0, 0, 0]],\n",
              "\n",
              "       ...,\n",
              "\n",
              "       [[0, 0, 0, ..., 0, 0, 0],\n",
              "        [0, 0, 0, ..., 0, 0, 0],\n",
              "        [0, 0, 0, ..., 0, 0, 0],\n",
              "        ...,\n",
              "        [0, 0, 0, ..., 0, 0, 0],\n",
              "        [0, 0, 0, ..., 0, 0, 0],\n",
              "        [0, 0, 0, ..., 0, 0, 0]],\n",
              "\n",
              "       [[0, 0, 0, ..., 0, 0, 0],\n",
              "        [0, 0, 0, ..., 0, 0, 0],\n",
              "        [0, 0, 0, ..., 0, 0, 0],\n",
              "        ...,\n",
              "        [0, 0, 0, ..., 0, 0, 0],\n",
              "        [0, 0, 0, ..., 0, 0, 0],\n",
              "        [0, 0, 0, ..., 0, 0, 0]],\n",
              "\n",
              "       [[0, 0, 0, ..., 0, 0, 0],\n",
              "        [0, 0, 0, ..., 0, 0, 0],\n",
              "        [0, 0, 0, ..., 0, 0, 0],\n",
              "        ...,\n",
              "        [0, 0, 0, ..., 0, 0, 0],\n",
              "        [0, 0, 0, ..., 0, 0, 0],\n",
              "        [0, 0, 0, ..., 0, 0, 0]]], dtype=uint8)"
            ]
          },
          "metadata": {},
          "execution_count": 48
        }
      ],
      "source": [
        "xtrain"
      ]
    },
    {
      "cell_type": "code",
      "execution_count": 49,
      "metadata": {
        "id": "YDH2Kg0TlPVe",
        "colab": {
          "base_uri": "https://localhost:8080/",
          "height": 0
        },
        "outputId": "075d8e3e-caf6-4991-98d0-60c65b7ebc78"
      },
      "outputs": [
        {
          "output_type": "execute_result",
          "data": {
            "text/plain": [
              "1"
            ]
          },
          "metadata": {},
          "execution_count": 49
        }
      ],
      "source": [
        "#check the dimention ytrain\n",
        "ytrain.ndim"
      ]
    },
    {
      "cell_type": "code",
      "execution_count": 50,
      "metadata": {
        "id": "IC43snlwlUIy",
        "colab": {
          "base_uri": "https://localhost:8080/",
          "height": 0
        },
        "outputId": "e2f06a23-d0c4-4497-a35e-c9066894589e"
      },
      "outputs": [
        {
          "output_type": "execute_result",
          "data": {
            "text/plain": [
              "1"
            ]
          },
          "metadata": {},
          "execution_count": 50
        }
      ],
      "source": [
        "#check the dimention ytest \n",
        "ytest.ndim"
      ]
    },
    {
      "cell_type": "code",
      "execution_count": 51,
      "metadata": {
        "id": "zefjP5UIm3V0",
        "colab": {
          "base_uri": "https://localhost:8080/",
          "height": 0
        },
        "outputId": "3ed8b1b3-d546-46b4-e6eb-57aef601284e"
      },
      "outputs": [
        {
          "output_type": "execute_result",
          "data": {
            "text/plain": [
              "(60000, 28, 28)"
            ]
          },
          "metadata": {},
          "execution_count": 51
        }
      ],
      "source": [
        "#60,000 img information and return \n",
        "#28 rows\n",
        "#28 columns\n",
        "xtrain.shape "
      ]
    },
    {
      "cell_type": "code",
      "execution_count": 52,
      "metadata": {
        "id": "JYss0OQSlS9b",
        "colab": {
          "base_uri": "https://localhost:8080/",
          "height": 0
        },
        "outputId": "75550e6c-8f26-40a4-a449-51237c554bf1"
      },
      "outputs": [
        {
          "output_type": "execute_result",
          "data": {
            "text/plain": [
              "(60000,)"
            ]
          },
          "metadata": {},
          "execution_count": 52
        }
      ],
      "source": [
        "#return imgs imformation\n",
        "ytrain.shape"
      ]
    },
    {
      "cell_type": "code",
      "execution_count": 53,
      "metadata": {
        "id": "Z4wJYrS3ZjHP",
        "colab": {
          "base_uri": "https://localhost:8080/",
          "height": 0
        },
        "outputId": "3f466956-3f80-4bd5-fb77-6fb40b41a5c9"
      },
      "outputs": [
        {
          "output_type": "execute_result",
          "data": {
            "text/plain": [
              "(10000, 28, 28)"
            ]
          },
          "metadata": {},
          "execution_count": 53
        }
      ],
      "source": [
        "#check the dimention xtrain\n",
        "\n",
        "xtest.shape"
      ]
    },
    {
      "cell_type": "code",
      "source": [
        "ytest.shape"
      ],
      "metadata": {
        "colab": {
          "base_uri": "https://localhost:8080/",
          "height": 0
        },
        "id": "kl32nYWCw7ho",
        "outputId": "83928b07-2574-4e5e-efab-b58375676d44"
      },
      "execution_count": 54,
      "outputs": [
        {
          "output_type": "execute_result",
          "data": {
            "text/plain": [
              "(10000,)"
            ]
          },
          "metadata": {},
          "execution_count": 54
        }
      ]
    },
    {
      "cell_type": "code",
      "execution_count": 55,
      "metadata": {
        "id": "3KV63Gz5iPl1",
        "colab": {
          "base_uri": "https://localhost:8080/",
          "height": 0
        },
        "outputId": "3a8d3b05-7e03-4e80-b9e7-a16c07487773"
      },
      "outputs": [
        {
          "output_type": "execute_result",
          "data": {
            "text/plain": [
              "3"
            ]
          },
          "metadata": {},
          "execution_count": 55
        }
      ],
      "source": [
        "xtrain.ndim  "
      ]
    },
    {
      "cell_type": "code",
      "execution_count": 56,
      "metadata": {
        "id": "EqQV7w28iI9J",
        "colab": {
          "base_uri": "https://localhost:8080/",
          "height": 0
        },
        "outputId": "2c59b79c-2839-440b-caf4-04d55a434fb6"
      },
      "outputs": [
        {
          "output_type": "execute_result",
          "data": {
            "text/plain": [
              "3"
            ]
          },
          "metadata": {},
          "execution_count": 56
        }
      ],
      "source": [
        "xtest.ndim"
      ]
    },
    {
      "cell_type": "code",
      "execution_count": 57,
      "metadata": {
        "id": "7B2nuUBom74D",
        "colab": {
          "base_uri": "https://localhost:8080/",
          "height": 282
        },
        "outputId": "1887c490-2dad-427d-cd3a-b17f928340c6"
      },
      "outputs": [
        {
          "output_type": "execute_result",
          "data": {
            "text/plain": [
              "<matplotlib.image.AxesImage at 0x7f5200f820d0>"
            ]
          },
          "metadata": {},
          "execution_count": 57
        },
        {
          "output_type": "display_data",
          "data": {
            "text/plain": [
              "<Figure size 432x288 with 1 Axes>"
            ],
            "image/png": "[encoded data removed]"
          },
          "metadata": {
            "needs_background": "light"
          }
        }
      ],
      "source": [
        "#show image \n",
        "import matplotlib.pyplot as plt\n",
        "plt.imshow(xtrain[1])"
      ]
    },
    {
      "cell_type": "markdown",
      "source": [
        "**feature scalling**"
      ],
      "metadata": {
        "id": "Z9lGDe4pGPgt"
      }
    },
    {
      "cell_type": "code",
      "execution_count": 58,
      "metadata": {
        "id": "zPDjSp4YZ9fQ"
      },
      "outputs": [],
      "source": [
        "#0 to 255 values the after i try to normalize.\n",
        "#to converted 0 to 1 range values.\n",
        "xtrain=xtrain/255\n",
        "xtest=xtest/255\n",
        "\n"
      ]
    },
    {
      "cell_type": "code",
      "execution_count": 59,
      "metadata": {
        "id": "sXev65KqoBJi",
        "colab": {
          "base_uri": "https://localhost:8080/",
          "height": 0
        },
        "outputId": "8bd15999-cc18-4887-b6ca-d3cc1d2b4e52"
      },
      "outputs": [
        {
          "output_type": "stream",
          "name": "stdout",
          "text": [
            "xtrain [[0.         0.         0.         0.         0.         0.\n",
            "  0.         0.         0.         0.         0.         0.\n",
            "  0.         0.         0.         0.         0.         0.\n",
            "  0.         0.         0.         0.         0.         0.\n",
            "  0.         0.         0.         0.        ]\n",
            " [0.         0.         0.         0.         0.         0.\n",
            "  0.         0.         0.         0.         0.         0.\n",
            "  0.         0.         0.         0.         0.         0.\n",
            "  0.         0.         0.         0.         0.         0.\n",
            "  0.         0.         0.         0.        ]\n",
            " [0.         0.         0.         0.         0.         0.\n",
            "  0.         0.         0.         0.         0.         0.\n",
            "  0.         0.         0.         0.         0.         0.\n",
            "  0.         0.         0.         0.         0.         0.\n",
            "  0.         0.         0.         0.        ]\n",
            " [0.         0.         0.         0.         0.         0.\n",
            "  0.         0.         0.         0.         0.         0.\n",
            "  0.         0.         0.         0.         0.         0.\n",
            "  0.         0.         0.         0.         0.         0.\n",
            "  0.         0.         0.         0.        ]\n",
            " [0.         0.         0.         0.         0.         0.\n",
            "  0.         0.         0.         0.         0.         0.\n",
            "  0.         0.         0.         0.2        0.62352941 0.99215686\n",
            "  0.62352941 0.19607843 0.         0.         0.         0.\n",
            "  0.         0.         0.         0.        ]\n",
            " [0.         0.         0.         0.         0.         0.\n",
            "  0.         0.         0.         0.         0.         0.\n",
            "  0.         0.         0.18823529 0.93333333 0.98823529 0.98823529\n",
            "  0.98823529 0.92941176 0.         0.         0.         0.\n",
            "  0.         0.         0.         0.        ]\n",
            " [0.         0.         0.         0.         0.         0.\n",
            "  0.         0.         0.         0.         0.         0.\n",
            "  0.         0.21176471 0.89019608 0.99215686 0.98823529 0.9372549\n",
            "  0.91372549 0.98823529 0.22352941 0.02352941 0.         0.\n",
            "  0.         0.         0.         0.        ]\n",
            " [0.         0.         0.         0.         0.         0.\n",
            "  0.         0.         0.         0.         0.         0.03921569\n",
            "  0.23529412 0.87843137 0.98823529 0.99215686 0.98823529 0.79215686\n",
            "  0.32941176 0.98823529 0.99215686 0.47843137 0.         0.\n",
            "  0.         0.         0.         0.        ]\n",
            " [0.         0.         0.         0.         0.         0.\n",
            "  0.         0.         0.         0.         0.         0.63921569\n",
            "  0.98823529 0.98823529 0.98823529 0.99215686 0.98823529 0.98823529\n",
            "  0.37647059 0.74117647 0.99215686 0.65490196 0.         0.\n",
            "  0.         0.         0.         0.        ]\n",
            " [0.         0.         0.         0.         0.         0.\n",
            "  0.         0.         0.         0.         0.2        0.93333333\n",
            "  0.99215686 0.99215686 0.74509804 0.44705882 0.99215686 0.89411765\n",
            "  0.18431373 0.30980392 1.         0.65882353 0.         0.\n",
            "  0.         0.         0.         0.        ]\n",
            " [0.         0.         0.         0.         0.         0.\n",
            "  0.         0.         0.         0.18823529 0.93333333 0.98823529\n",
            "  0.98823529 0.70196078 0.04705882 0.29411765 0.4745098  0.08235294\n",
            "  0.         0.         0.99215686 0.95294118 0.19607843 0.\n",
            "  0.         0.         0.         0.        ]\n",
            " [0.         0.         0.         0.         0.         0.\n",
            "  0.         0.         0.14901961 0.64705882 0.99215686 0.91372549\n",
            "  0.81568627 0.32941176 0.         0.         0.         0.\n",
            "  0.         0.         0.99215686 0.98823529 0.64705882 0.\n",
            "  0.         0.         0.         0.        ]\n",
            " [0.         0.         0.         0.         0.         0.\n",
            "  0.         0.02745098 0.69803922 0.98823529 0.94117647 0.27843137\n",
            "  0.0745098  0.10980392 0.         0.         0.         0.\n",
            "  0.         0.         0.99215686 0.98823529 0.76470588 0.\n",
            "  0.         0.         0.         0.        ]\n",
            " [0.         0.         0.         0.         0.         0.\n",
            "  0.         0.22352941 0.98823529 0.98823529 0.24705882 0.\n",
            "  0.         0.         0.         0.         0.         0.\n",
            "  0.         0.         0.99215686 0.98823529 0.76470588 0.\n",
            "  0.         0.         0.         0.        ]\n",
            " [0.         0.         0.         0.         0.         0.\n",
            "  0.         0.77647059 0.99215686 0.74509804 0.         0.\n",
            "  0.         0.         0.         0.         0.         0.\n",
            "  0.         0.         1.         0.99215686 0.76862745 0.\n",
            "  0.         0.         0.         0.        ]\n",
            " [0.         0.         0.         0.         0.         0.\n",
            "  0.29803922 0.96470588 0.98823529 0.43921569 0.         0.\n",
            "  0.         0.         0.         0.         0.         0.\n",
            "  0.         0.         0.99215686 0.98823529 0.58039216 0.\n",
            "  0.         0.         0.         0.        ]\n",
            " [0.         0.         0.         0.         0.         0.\n",
            "  0.33333333 0.98823529 0.90196078 0.09803922 0.         0.\n",
            "  0.         0.         0.         0.         0.         0.\n",
            "  0.02745098 0.52941176 0.99215686 0.72941176 0.04705882 0.\n",
            "  0.         0.         0.         0.        ]\n",
            " [0.         0.         0.         0.         0.         0.\n",
            "  0.33333333 0.98823529 0.8745098  0.         0.         0.\n",
            "  0.         0.         0.         0.         0.         0.02745098\n",
            "  0.51372549 0.98823529 0.88235294 0.27843137 0.         0.\n",
            "  0.         0.         0.         0.        ]\n",
            " [0.         0.         0.         0.         0.         0.\n",
            "  0.33333333 0.98823529 0.56862745 0.         0.         0.\n",
            "  0.         0.         0.         0.         0.18823529 0.64705882\n",
            "  0.98823529 0.67843137 0.         0.         0.         0.\n",
            "  0.         0.         0.         0.        ]\n",
            " [0.         0.         0.         0.         0.         0.\n",
            "  0.3372549  0.99215686 0.88235294 0.         0.         0.\n",
            "  0.         0.         0.         0.44705882 0.93333333 0.99215686\n",
            "  0.63529412 0.         0.         0.         0.         0.\n",
            "  0.         0.         0.         0.        ]\n",
            " [0.         0.         0.         0.         0.         0.\n",
            "  0.33333333 0.98823529 0.97647059 0.57254902 0.18823529 0.11372549\n",
            "  0.33333333 0.69803922 0.88235294 0.99215686 0.8745098  0.65490196\n",
            "  0.21960784 0.         0.         0.         0.         0.\n",
            "  0.         0.         0.         0.        ]\n",
            " [0.         0.         0.         0.         0.         0.\n",
            "  0.33333333 0.98823529 0.98823529 0.98823529 0.89803922 0.84313725\n",
            "  0.98823529 0.98823529 0.98823529 0.76862745 0.50980392 0.\n",
            "  0.         0.         0.         0.         0.         0.\n",
            "  0.         0.         0.         0.        ]\n",
            " [0.         0.         0.         0.         0.         0.\n",
            "  0.10980392 0.78039216 0.98823529 0.98823529 0.99215686 0.98823529\n",
            "  0.98823529 0.91372549 0.56862745 0.         0.         0.\n",
            "  0.         0.         0.         0.         0.         0.\n",
            "  0.         0.         0.         0.        ]\n",
            " [0.         0.         0.         0.         0.         0.\n",
            "  0.         0.09803922 0.50196078 0.98823529 0.99215686 0.98823529\n",
            "  0.55294118 0.14509804 0.         0.         0.         0.\n",
            "  0.         0.         0.         0.         0.         0.\n",
            "  0.         0.         0.         0.        ]\n",
            " [0.         0.         0.         0.         0.         0.\n",
            "  0.         0.         0.         0.         0.         0.\n",
            "  0.         0.         0.         0.         0.         0.\n",
            "  0.         0.         0.         0.         0.         0.\n",
            "  0.         0.         0.         0.        ]\n",
            " [0.         0.         0.         0.         0.         0.\n",
            "  0.         0.         0.         0.         0.         0.\n",
            "  0.         0.         0.         0.         0.         0.\n",
            "  0.         0.         0.         0.         0.         0.\n",
            "  0.         0.         0.         0.        ]\n",
            " [0.         0.         0.         0.         0.         0.\n",
            "  0.         0.         0.         0.         0.         0.\n",
            "  0.         0.         0.         0.         0.         0.\n",
            "  0.         0.         0.         0.         0.         0.\n",
            "  0.         0.         0.         0.        ]\n",
            " [0.         0.         0.         0.         0.         0.\n",
            "  0.         0.         0.         0.         0.         0.\n",
            "  0.         0.         0.         0.         0.         0.\n",
            "  0.         0.         0.         0.         0.         0.\n",
            "  0.         0.         0.         0.        ]]\n",
            "xtest [[0.         0.         0.         0.         0.         0.\n",
            "  0.         0.         0.         0.         0.         0.\n",
            "  0.         0.         0.         0.         0.         0.\n",
            "  0.         0.         0.         0.         0.         0.\n",
            "  0.         0.         0.         0.        ]\n",
            " [0.         0.         0.         0.         0.         0.\n",
            "  0.         0.         0.         0.         0.         0.\n",
            "  0.         0.         0.         0.         0.         0.\n",
            "  0.         0.         0.         0.         0.         0.\n",
            "  0.         0.         0.         0.        ]\n",
            " [0.         0.         0.         0.         0.         0.\n",
            "  0.         0.         0.         0.         0.         0.\n",
            "  0.         0.         0.         0.         0.         0.\n",
            "  0.         0.         0.         0.         0.         0.\n",
            "  0.         0.         0.         0.        ]\n",
            " [0.         0.         0.         0.         0.         0.\n",
            "  0.         0.         0.         0.         0.45490196 0.49019608\n",
            "  0.67058824 1.         1.         0.58823529 0.36470588 0.\n",
            "  0.         0.         0.         0.         0.         0.\n",
            "  0.         0.         0.         0.        ]\n",
            " [0.         0.         0.         0.         0.         0.\n",
            "  0.         0.         0.         0.6627451  0.99215686 0.99215686\n",
            "  0.99215686 0.99215686 0.99215686 0.99215686 0.85490196 0.11764706\n",
            "  0.         0.         0.         0.         0.         0.\n",
            "  0.         0.         0.         0.        ]\n",
            " [0.         0.         0.         0.         0.         0.\n",
            "  0.         0.         0.6627451  0.99215686 0.99215686 0.99215686\n",
            "  0.83529412 0.55686275 0.69019608 0.99215686 0.99215686 0.47843137\n",
            "  0.         0.         0.         0.         0.         0.\n",
            "  0.         0.         0.         0.        ]\n",
            " [0.         0.         0.         0.         0.         0.\n",
            "  0.         0.20392157 0.98039216 0.99215686 0.82352941 0.1254902\n",
            "  0.04705882 0.         0.02352941 0.80784314 0.99215686 0.54901961\n",
            "  0.         0.         0.         0.         0.         0.\n",
            "  0.         0.         0.         0.        ]\n",
            " [0.         0.         0.         0.         0.         0.\n",
            "  0.         0.30196078 0.98431373 0.82352941 0.09803922 0.\n",
            "  0.         0.         0.47843137 0.97254902 0.99215686 0.25490196\n",
            "  0.         0.         0.         0.         0.         0.\n",
            "  0.         0.         0.         0.        ]\n",
            " [0.         0.         0.         0.         0.         0.\n",
            "  0.         0.         0.12156863 0.07058824 0.         0.\n",
            "  0.         0.         0.81960784 0.99215686 0.99215686 0.25490196\n",
            "  0.         0.         0.         0.         0.         0.\n",
            "  0.         0.         0.         0.        ]\n",
            " [0.         0.         0.         0.         0.         0.\n",
            "  0.         0.         0.         0.         0.         0.\n",
            "  0.         0.45882353 0.96862745 0.99215686 0.77647059 0.03921569\n",
            "  0.         0.         0.         0.         0.         0.\n",
            "  0.         0.         0.         0.        ]\n",
            " [0.         0.         0.         0.         0.         0.\n",
            "  0.         0.         0.         0.         0.         0.\n",
            "  0.29803922 0.96862745 0.99215686 0.90588235 0.24705882 0.\n",
            "  0.         0.         0.         0.         0.         0.\n",
            "  0.         0.         0.         0.        ]\n",
            " [0.         0.         0.         0.         0.         0.\n",
            "  0.         0.         0.         0.         0.         0.\n",
            "  0.50196078 0.99215686 0.99215686 0.56470588 0.         0.\n",
            "  0.         0.         0.         0.         0.         0.\n",
            "  0.         0.         0.         0.        ]\n",
            " [0.         0.         0.         0.         0.         0.\n",
            "  0.         0.         0.         0.         0.         0.69019608\n",
            "  0.96470588 0.99215686 0.62352941 0.04705882 0.         0.\n",
            "  0.         0.         0.         0.         0.         0.\n",
            "  0.         0.         0.         0.        ]\n",
            " [0.         0.         0.         0.         0.         0.\n",
            "  0.         0.         0.         0.         0.09803922 0.91764706\n",
            "  0.99215686 0.91372549 0.1372549  0.         0.         0.\n",
            "  0.         0.         0.         0.         0.         0.\n",
            "  0.         0.         0.         0.        ]\n",
            " [0.         0.         0.         0.         0.         0.\n",
            "  0.         0.         0.         0.         0.77647059 0.99215686\n",
            "  0.99215686 0.55294118 0.         0.         0.         0.\n",
            "  0.         0.         0.         0.         0.         0.\n",
            "  0.         0.         0.         0.        ]\n",
            " [0.         0.         0.         0.         0.         0.\n",
            "  0.         0.         0.         0.30588235 0.97254902 0.99215686\n",
            "  0.74117647 0.04705882 0.         0.         0.         0.\n",
            "  0.         0.         0.         0.         0.         0.\n",
            "  0.         0.         0.         0.        ]\n",
            " [0.         0.         0.         0.         0.         0.\n",
            "  0.         0.         0.0745098  0.78431373 0.99215686 0.99215686\n",
            "  0.55294118 0.         0.         0.         0.         0.\n",
            "  0.         0.         0.         0.         0.         0.\n",
            "  0.         0.         0.         0.        ]\n",
            " [0.         0.         0.         0.         0.         0.\n",
            "  0.         0.         0.5254902  0.99215686 0.99215686 0.67843137\n",
            "  0.04705882 0.         0.         0.         0.         0.\n",
            "  0.         0.         0.         0.         0.         0.\n",
            "  0.         0.         0.         0.        ]\n",
            " [0.         0.         0.         0.         0.         0.\n",
            "  0.         0.         0.97254902 0.99215686 0.99215686 0.09803922\n",
            "  0.         0.         0.         0.         0.         0.\n",
            "  0.         0.         0.         0.         0.         0.\n",
            "  0.         0.         0.         0.        ]\n",
            " [0.         0.         0.         0.         0.         0.\n",
            "  0.         0.         0.97254902 0.99215686 0.99215686 0.16862745\n",
            "  0.07843137 0.07843137 0.07843137 0.07843137 0.01960784 0.\n",
            "  0.01960784 0.07843137 0.07843137 0.14509804 0.58823529 0.58823529\n",
            "  0.58823529 0.57647059 0.03921569 0.        ]\n",
            " [0.         0.         0.         0.         0.         0.\n",
            "  0.         0.         0.97254902 0.99215686 0.99215686 0.99215686\n",
            "  0.99215686 0.99215686 0.99215686 0.99215686 0.65882353 0.56078431\n",
            "  0.65098039 0.99215686 0.99215686 0.99215686 0.99215686 0.99215686\n",
            "  0.99215686 0.99215686 0.48235294 0.        ]\n",
            " [0.         0.         0.         0.         0.         0.\n",
            "  0.         0.         0.68235294 0.99215686 0.99215686 0.99215686\n",
            "  0.99215686 0.99215686 0.99215686 0.99215686 0.99215686 0.99215686\n",
            "  0.99215686 0.99215686 0.97647059 0.96862745 0.96862745 0.6627451\n",
            "  0.45882353 0.45882353 0.22352941 0.        ]\n",
            " [0.         0.         0.         0.         0.         0.\n",
            "  0.         0.         0.         0.4627451  0.48235294 0.48235294\n",
            "  0.48235294 0.65098039 0.99215686 0.99215686 0.99215686 0.60784314\n",
            "  0.48235294 0.48235294 0.16078431 0.         0.         0.\n",
            "  0.         0.         0.         0.        ]\n",
            " [0.         0.         0.         0.         0.         0.\n",
            "  0.         0.         0.         0.         0.         0.\n",
            "  0.         0.         0.         0.         0.         0.\n",
            "  0.         0.         0.         0.         0.         0.\n",
            "  0.         0.         0.         0.        ]\n",
            " [0.         0.         0.         0.         0.         0.\n",
            "  0.         0.         0.         0.         0.         0.\n",
            "  0.         0.         0.         0.         0.         0.\n",
            "  0.         0.         0.         0.         0.         0.\n",
            "  0.         0.         0.         0.        ]\n",
            " [0.         0.         0.         0.         0.         0.\n",
            "  0.         0.         0.         0.         0.         0.\n",
            "  0.         0.         0.         0.         0.         0.\n",
            "  0.         0.         0.         0.         0.         0.\n",
            "  0.         0.         0.         0.        ]\n",
            " [0.         0.         0.         0.         0.         0.\n",
            "  0.         0.         0.         0.         0.         0.\n",
            "  0.         0.         0.         0.         0.         0.\n",
            "  0.         0.         0.         0.         0.         0.\n",
            "  0.         0.         0.         0.        ]\n",
            " [0.         0.         0.         0.         0.         0.\n",
            "  0.         0.         0.         0.         0.         0.\n",
            "  0.         0.         0.         0.         0.         0.\n",
            "  0.         0.         0.         0.         0.         0.\n",
            "  0.         0.         0.         0.        ]]\n"
          ]
        }
      ],
      "source": [
        "print(\"xtrain\",xtrain[1])\n",
        "\n",
        "print('xtest',xtest[1])\n"
      ]
    },
    {
      "cell_type": "markdown",
      "source": [
        "**Build Neural Network model**"
      ],
      "metadata": {
        "id": "-1gtuNSW79yT"
      }
    },
    {
      "cell_type": "code",
      "execution_count": 60,
      "metadata": {
        "id": "P9JGtU_wnBeA"
      },
      "outputs": [],
      "source": [
        "# buld modele \n",
        "model=Sequential()\n",
        "model.add(Flatten(input_shape=(28,28))) #input layer\n",
        "model.add(Dense(128,activation='relu')) #hidden layer\n",
        "model.add(Dense(10,activation='softmax')) #output layer"
      ]
    },
    {
      "cell_type": "markdown",
      "source": [
        "#return flatten layer shape id total 784 input and parameter value is 0.\n",
        "#dense_6 layer shape is 128 input means;i mention the input and parameter value is 100480. \n",
        "#dense_7 layer shape is 10 mean this output layer and parameter value is 1290. **bold text**\n",
        "model.summary()"
      ],
      "metadata": {
        "id": "98MNLy8u8NAy"
      }
    },
    {
      "cell_type": "code",
      "execution_count": 61,
      "metadata": {
        "id": "CUs3mCLshkbl",
        "colab": {
          "base_uri": "https://localhost:8080/",
          "height": 0
        },
        "outputId": "726e3ad1-30d5-459f-bdb4-c5ce1ca83135"
      },
      "outputs": [
        {
          "output_type": "stream",
          "name": "stdout",
          "text": [
            "Model: \"sequential_1\"\n",
            "_________________________________________________________________\n",
            " Layer (type)                Output Shape              Param #   \n",
            "=================================================================\n",
            " flatten_1 (Flatten)         (None, 784)               0         \n",
            "                                                                 \n",
            " dense_2 (Dense)             (None, 128)               100480    \n",
            "                                                                 \n",
            " dense_3 (Dense)             (None, 10)                1290      \n",
            "                                                                 \n",
            "=================================================================\n",
            "Total params: 101,770\n",
            "Trainable params: 101,770\n",
            "Non-trainable params: 0\n",
            "_________________________________________________________________\n"
          ]
        }
      ],
      "source": [
        "model.summary()"
      ]
    },
    {
      "cell_type": "markdown",
      "source": [
        "**#compail the model**\n",
        "\n",
        "after then my model is compile process optimzer is adms,\n",
        "loss is using sparse_categorical_crossentropy because i perform classfiction problem.\n",
        "then i find loss after then i find accuracy i using merics."
      ],
      "metadata": {
        "id": "dQsWMe_J8-3a"
      }
    },
    {
      "cell_type": "code",
      "execution_count": 62,
      "metadata": {
        "id": "qcMmTrDnhsQA"
      },
      "outputs": [],
      "source": [
        "#compail the model\n",
        "model.compile(loss='sparse_categorical_crossentropy',optimizer='Adam',metrics=['accuracy'])\n"
      ]
    },
    {
      "cell_type": "markdown",
      "source": [
        "**#train the model**\n",
        "\n"
      ],
      "metadata": {
        "id": "fclyyBf89bU8"
      }
    },
    {
      "cell_type": "code",
      "execution_count": 63,
      "metadata": {
        "id": "-CBtZNwqh2cJ",
        "colab": {
          "base_uri": "https://localhost:8080/",
          "height": 0
        },
        "outputId": "2a4fc839-e1d2-46d9-921e-dde18649d08a"
      },
      "outputs": [
        {
          "output_type": "stream",
          "name": "stdout",
          "text": [
            "Epoch 1/10\n",
            "750/750 [==============================] - 4s 5ms/step - loss: 0.3336 - accuracy: 0.9057 - val_loss: 0.1981 - val_accuracy: 0.9427\n",
            "Epoch 2/10\n",
            "750/750 [==============================] - 4s 5ms/step - loss: 0.1573 - accuracy: 0.9532 - val_loss: 0.1423 - val_accuracy: 0.9588\n",
            "Epoch 3/10\n",
            "750/750 [==============================] - 4s 5ms/step - loss: 0.1100 - accuracy: 0.9681 - val_loss: 0.1136 - val_accuracy: 0.9665\n",
            "Epoch 4/10\n",
            "750/750 [==============================] - 4s 5ms/step - loss: 0.0817 - accuracy: 0.9766 - val_loss: 0.1023 - val_accuracy: 0.9691\n",
            "Epoch 5/10\n",
            "750/750 [==============================] - 3s 4ms/step - loss: 0.0650 - accuracy: 0.9809 - val_loss: 0.0930 - val_accuracy: 0.9715\n",
            "Epoch 6/10\n",
            "750/750 [==============================] - 3s 5ms/step - loss: 0.0521 - accuracy: 0.9852 - val_loss: 0.0848 - val_accuracy: 0.9739\n",
            "Epoch 7/10\n",
            "750/750 [==============================] - 3s 5ms/step - loss: 0.0417 - accuracy: 0.9885 - val_loss: 0.0904 - val_accuracy: 0.9743\n",
            "Epoch 8/10\n",
            "750/750 [==============================] - 3s 5ms/step - loss: 0.0338 - accuracy: 0.9907 - val_loss: 0.0852 - val_accuracy: 0.9753\n",
            "Epoch 9/10\n",
            "750/750 [==============================] - 4s 5ms/step - loss: 0.0275 - accuracy: 0.9925 - val_loss: 0.0865 - val_accuracy: 0.9758\n",
            "Epoch 10/10\n",
            "750/750 [==============================] - 4s 6ms/step - loss: 0.0222 - accuracy: 0.9941 - val_loss: 0.0889 - val_accuracy: 0.9760\n"
          ]
        }
      ],
      "source": [
        "#train the model\n",
        "history=model.fit(xtrain,ytrain,batch_size=64,epochs=10,verbose=1,validation_split=0.2)\n",
        "  \n"
      ]
    },
    {
      "cell_type": "markdown",
      "source": [
        "\n",
        "**Test and Evaluate Neural Network Model**"
      ],
      "metadata": {
        "id": "_bnupRul99-C"
      }
    },
    {
      "cell_type": "code",
      "source": [
        "#Test and Evaluate Neural Network Model\n",
        "model.evaluate(xtest,ytest)\n",
        "\n"
      ],
      "metadata": {
        "colab": {
          "base_uri": "https://localhost:8080/",
          "height": 0
        },
        "id": "r52XtxPD9wFC",
        "outputId": "41a55039-9aea-439c-b761-fee88d37f9f3"
      },
      "execution_count": 64,
      "outputs": [
        {
          "output_type": "stream",
          "name": "stdout",
          "text": [
            "313/313 [==============================] - 1s 2ms/step - loss: 0.0774 - accuracy: 0.9775\n"
          ]
        },
        {
          "output_type": "execute_result",
          "data": {
            "text/plain": [
              "[0.07739394903182983, 0.9775000214576721]"
            ]
          },
          "metadata": {},
          "execution_count": 64
        }
      ]
    },
    {
      "cell_type": "code",
      "execution_count": 65,
      "metadata": {
        "colab": {
          "base_uri": "https://localhost:8080/",
          "height": 0
        },
        "id": "pjM4QAubh8ps",
        "outputId": "64a57d6e-62b9-4f66-970f-012488d1c469"
      },
      "outputs": [
        {
          "output_type": "stream",
          "name": "stdout",
          "text": [
            "313/313 [==============================] - 1s 2ms/step\n"
          ]
        },
        {
          "output_type": "execute_result",
          "data": {
            "text/plain": [
              "array([[4.5636298e-07, 1.2048960e-09, 7.4969180e-06, ..., 9.9744761e-01,\n",
              "        9.8202196e-05, 8.3081441e-06],\n",
              "       [4.2937241e-08, 3.0120242e-05, 9.9996895e-01, ..., 6.2337819e-13,\n",
              "        2.1117084e-07, 3.8371809e-14],\n",
              "       [8.7701846e-06, 9.9829340e-01, 1.1519460e-04, ..., 2.7664148e-04,\n",
              "        1.2012342e-03, 1.6948792e-06],\n",
              "       ...,\n",
              "       [7.6196407e-15, 1.0690063e-13, 1.0774811e-13, ..., 1.7222183e-08,\n",
              "        4.5585548e-08, 5.6195331e-06],\n",
              "       [2.5312414e-11, 5.0392388e-11, 5.7806654e-12, ..., 1.8573169e-09,\n",
              "        2.6255805e-04, 4.1622143e-11],\n",
              "       [1.8553716e-09, 6.6442098e-14, 1.2299731e-09, ..., 5.2907410e-15,\n",
              "        1.8308927e-10, 2.5656814e-12]], dtype=float32)"
            ]
          },
          "metadata": {},
          "execution_count": 65
        }
      ],
      "source": [
        "model.predict(xtest)\n"
      ]
    },
    {
      "cell_type": "code",
      "execution_count": 84,
      "metadata": {
        "colab": {
          "base_uri": "https://localhost:8080/",
          "height": 0
        },
        "id": "WOAdZi8qrthx",
        "outputId": "cfeb9892-66b3-4e98-eb69-33605027fa6a"
      },
      "outputs": [
        {
          "output_type": "stream",
          "name": "stdout",
          "text": [
            "313/313 [==============================] - 1s 2ms/step\n"
          ]
        }
      ],
      "source": [
        "y_pro=model.predict(xtest)"
      ]
    },
    {
      "cell_type": "code",
      "execution_count": 82,
      "metadata": {
        "id": "81nrHc4visnd"
      },
      "outputs": [],
      "source": [
        "ypred=y_pro.argmax(axis=1)\n"
      ]
    },
    {
      "cell_type": "code",
      "execution_count": 87,
      "metadata": {
        "colab": {
          "base_uri": "https://localhost:8080/",
          "height": 0
        },
        "id": "jN8Nu1VBixow",
        "outputId": "e27fde17-f909-4571-849a-f3dc6e968768"
      },
      "outputs": [
        {
          "output_type": "execute_result",
          "data": {
            "text/plain": [
              "0.9775"
            ]
          },
          "metadata": {},
          "execution_count": 87
        }
      ],
      "source": [
        "#accuracy of the  model\n",
        "from sklearn.metrics import accuracy_score\n",
        "accuracy_score(ytest,ypred)\n"
      ]
    },
    {
      "cell_type": "markdown",
      "source": [
        "**check the model overfit or not ** \n",
        "\n",
        "A figure is created showing line plots of the model loss on the train and test sets.\n",
        "\n",
        "We can see that expected shape of it is goodfit model ."
      ],
      "metadata": {
        "id": "tHjKkmK7C2NI"
      }
    },
    {
      "cell_type": "code",
      "source": [
        "plt.plot(history.history['loss'], label='train')\n",
        "plt.plot(history.history['val_loss'], label='test')\n",
        "plt.legend()\n",
        "plt.show()"
      ],
      "metadata": {
        "id": "guxsYiQlCnTg",
        "colab": {
          "base_uri": "https://localhost:8080/",
          "height": 265
        },
        "outputId": "692f9de7-e5f0-4909-efa2-9641179c9fa2"
      },
      "execution_count": 88,
      "outputs": [
        {
          "output_type": "display_data",
          "data": {
            "text/plain": [
              "<Figure size 432x288 with 1 Axes>"
            ],
            "image/png": "[encoded data removed]"
          },
          "metadata": {
            "needs_background": "light"
          }
        }
      ]
    },
    {
      "cell_type": "code",
      "source": [
        "plt.plot(history.history['accuracy'])\n",
        "plt.plot(history.history['val_accuracy'])\n"
      ],
      "metadata": {
        "colab": {
          "base_uri": "https://localhost:8080/",
          "height": 282
        },
        "id": "dc-wR3HWI1u2",
        "outputId": "f6db50a8-ba03-49b5-8d81-06192342c318"
      },
      "execution_count": 92,
      "outputs": [
        {
          "output_type": "execute_result",
          "data": {
            "text/plain": [
              "[<matplotlib.lines.Line2D at 0x7f52054d6940>]"
            ]
          },
          "metadata": {},
          "execution_count": 92
        },
        {
          "output_type": "display_data",
          "data": {
            "text/plain": [
              "<Figure size 432x288 with 1 Axes>"
            ],
            "image/png": "[encoded data removed]"
          },
          "metadata": {
            "needs_background": "light"
          }
        }
      ]
    },
    {
      "cell_type": "markdown",
      "source": [
        "**# new dara check**"
      ],
      "metadata": {
        "id": "RSUca1MOaR1z"
      }
    },
    {
      "cell_type": "code",
      "source": [
        "#show it is real img\n",
        "plt.imshow(xtest[79])"
      ],
      "metadata": {
        "colab": {
          "base_uri": "https://localhost:8080/",
          "height": 282
        },
        "id": "FokCT2SHah_Y",
        "outputId": "11866090-e09e-46ac-d3d8-e936a0a4e440"
      },
      "execution_count": 93,
      "outputs": [
        {
          "output_type": "execute_result",
          "data": {
            "text/plain": [
              "<matplotlib.image.AxesImage at 0x7f5205436160>"
            ]
          },
          "metadata": {},
          "execution_count": 93
        },
        {
          "output_type": "display_data",
          "data": {
            "text/plain": [
              "<Figure size 432x288 with 1 Axes>"
            ],
            "image/png": "[encoded data removed]"
          },
          "metadata": {
            "needs_background": "light"
          }
        }
      ]
    },
    {
      "cell_type": "code",
      "source": [
        "#model predict output\n",
        "# new dara check\n",
        "res = model.predict(xtest[79])\n",
        "np.argmax(res)\n",
        "plt.imshow(res)"
      ],
      "metadata": {
        "colab": {
          "base_uri": "https://localhost:8080/",
          "height": 120
        },
        "id": "LlLHS6MoaQRE",
        "outputId": "9f0c7d99-2ecc-411f-85a5-fd40b79336d0"
      },
      "execution_count": 94,
      "outputs": [
        {
          "output_type": "stream",
          "name": "stdout",
          "text": [
            "1/1 [==============================] - 0s 20ms/step\n"
          ]
        },
        {
          "output_type": "execute_result",
          "data": {
            "text/plain": [
              "<matplotlib.image.AxesImage at 0x7f5205398a30>"
            ]
          },
          "metadata": {},
          "execution_count": 94
        },
        {
          "output_type": "display_data",
          "data": {
            "text/plain": [
              "<Figure size 432x288 with 1 Axes>"
            ],
            "image/png": "[encoded data removed]"
          },
          "metadata": {
            "needs_background": "light"
          }
        }
      ]
    },
    {
      "cell_type": "code",
      "source": [],
      "metadata": {
        "id": "GTtb3EfGaeIg"
      },
      "execution_count": 94,
      "outputs": []
    },
    {
      "cell_type": "code",
      "source": [],
      "metadata": {
        "id": "_pOXrLs6afKb"
      },
      "execution_count": 94,
      "outputs": []
    },
    {
      "cell_type": "markdown",
      "source": [
        "**solve the problem of oveoverfit model**  \n",
        "\n",
        "**solve this situation using the Early Stopping method use**"
      ],
      "metadata": {
        "id": "LOaHX0-ODicw"
      }
    },
    {
      "cell_type": "code",
      "source": [
        "'''\n",
        "# fit model\n",
        "history1 = model.fit(xtrain, ytrain, validation_data=(xtest, ytest), epochs=4, verbose=0)\n",
        "# evaluate the model\n",
        "train_acc = model.evaluate(xtrain, ytrain, verbose=0)\n",
        "test_acc = model.evaluate(xtest, ytest, verbose=0)\n",
        "# plot training history\n",
        "plt.plot(history1.history['loss'], label='train')\n",
        "plt.plot(history1.history['val_loss'], label='test')\n",
        "plt.legend()\n",
        "plt.show()\n",
        "'''"
      ],
      "metadata": {
        "id": "OJmVylCoDtUJ"
      },
      "execution_count": null,
      "outputs": []
    }
  ],
  "metadata": {
    "colab": {
      "provenance": []
    },
    "kernelspec": {
      "display_name": "Python 3",
      "name": "python3"
    },
    "language_info": {
      "name": "python"
    }
  },
  "nbformat": 4,
  "nbformat_minor": 0
}